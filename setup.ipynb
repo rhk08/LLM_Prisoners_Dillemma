{
 "cells": [
  {
   "cell_type": "code",
   "execution_count": 1,
   "metadata": {},
   "outputs": [
    {
     "name": "stdout",
     "output_type": "stream",
     "text": [
      "hello world!\n"
     ]
    }
   ],
   "source": [
    "print(\"hello world!\")"
   ]
  },
  {
   "cell_type": "code",
   "execution_count": null,
   "metadata": {},
   "outputs": [
    {
     "name": "stdout",
     "output_type": "stream",
     "text": [
      "Collecting langchain\n",
      "  Downloading langchain-0.3.24-py3-none-any.whl.metadata (7.8 kB)\n",
      "Requirement already satisfied: langgraph in c:\\users\\ryanz\\desktop\\universityprojects\\llm_prisoners_dillemma\\.venv\\lib\\site-packages (0.3.22)\n",
      "Collecting langchain-cohere\n",
      "  Downloading langchain_cohere-0.4.4-py3-none-any.whl.metadata (6.6 kB)\n",
      "Collecting cohere\n",
      "  Downloading cohere-5.15.0-py3-none-any.whl.metadata (3.4 kB)\n",
      "Collecting langchain-core<1.0.0,>=0.3.55 (from langchain)\n",
      "  Downloading langchain_core-0.3.56-py3-none-any.whl.metadata (5.9 kB)\n",
      "Collecting langchain-text-splitters<1.0.0,>=0.3.8 (from langchain)\n",
      "  Downloading langchain_text_splitters-0.3.8-py3-none-any.whl.metadata (1.9 kB)\n",
      "Requirement already satisfied: langsmith<0.4,>=0.1.17 in c:\\users\\ryanz\\desktop\\universityprojects\\llm_prisoners_dillemma\\.venv\\lib\\site-packages (from langchain) (0.3.22)\n",
      "Requirement already satisfied: pydantic<3.0.0,>=2.7.4 in c:\\users\\ryanz\\desktop\\universityprojects\\llm_prisoners_dillemma\\.venv\\lib\\site-packages (from langchain) (2.11.1)\n",
      "Collecting SQLAlchemy<3,>=1.4 (from langchain)\n",
      "  Downloading sqlalchemy-2.0.40-cp312-cp312-win_amd64.whl.metadata (9.9 kB)\n",
      "Requirement already satisfied: requests<3,>=2 in c:\\users\\ryanz\\desktop\\universityprojects\\llm_prisoners_dillemma\\.venv\\lib\\site-packages (from langchain) (2.32.3)\n",
      "Requirement already satisfied: PyYAML>=5.3 in c:\\users\\ryanz\\desktop\\universityprojects\\llm_prisoners_dillemma\\.venv\\lib\\site-packages (from langchain) (6.0.2)\n",
      "Requirement already satisfied: langgraph-checkpoint<3.0.0,>=2.0.10 in c:\\users\\ryanz\\desktop\\universityprojects\\llm_prisoners_dillemma\\.venv\\lib\\site-packages (from langgraph) (2.0.23)\n",
      "Requirement already satisfied: langgraph-prebuilt<0.2,>=0.1.1 in c:\\users\\ryanz\\desktop\\universityprojects\\llm_prisoners_dillemma\\.venv\\lib\\site-packages (from langgraph) (0.1.7)\n",
      "Requirement already satisfied: langgraph-sdk<0.2.0,>=0.1.42 in c:\\users\\ryanz\\desktop\\universityprojects\\llm_prisoners_dillemma\\.venv\\lib\\site-packages (from langgraph) (0.1.60)\n",
      "Requirement already satisfied: xxhash<4.0.0,>=3.5.0 in c:\\users\\ryanz\\desktop\\universityprojects\\llm_prisoners_dillemma\\.venv\\lib\\site-packages (from langgraph) (3.5.0)\n",
      "Collecting langchain-community<0.4.0,>=0.3.0 (from langchain-cohere)\n",
      "  Downloading langchain_community-0.3.23-py3-none-any.whl.metadata (2.5 kB)\n",
      "Collecting types-pyyaml<7.0.0.0,>=6.0.12.20240917 (from langchain-cohere)\n",
      "  Downloading types_pyyaml-6.0.12.20250402-py3-none-any.whl.metadata (1.8 kB)\n",
      "Collecting fastavro<2.0.0,>=1.9.4 (from cohere)\n",
      "  Downloading fastavro-1.10.0-cp312-cp312-win_amd64.whl.metadata (5.7 kB)\n",
      "Requirement already satisfied: httpx>=0.21.2 in c:\\users\\ryanz\\desktop\\universityprojects\\llm_prisoners_dillemma\\.venv\\lib\\site-packages (from cohere) (0.28.1)\n",
      "Collecting httpx-sse==0.4.0 (from cohere)\n",
      "  Downloading httpx_sse-0.4.0-py3-none-any.whl.metadata (9.0 kB)\n",
      "Requirement already satisfied: pydantic-core<3.0.0,>=2.18.2 in c:\\users\\ryanz\\desktop\\universityprojects\\llm_prisoners_dillemma\\.venv\\lib\\site-packages (from cohere) (2.33.0)\n",
      "Collecting tokenizers<1,>=0.15 (from cohere)\n",
      "  Downloading tokenizers-0.21.1-cp39-abi3-win_amd64.whl.metadata (6.9 kB)\n",
      "Collecting types-requests<3.0.0,>=2.0.0 (from cohere)\n",
      "  Downloading types_requests-2.32.0.20250328-py3-none-any.whl.metadata (2.3 kB)\n",
      "Requirement already satisfied: typing_extensions>=4.0.0 in c:\\users\\ryanz\\desktop\\universityprojects\\llm_prisoners_dillemma\\.venv\\lib\\site-packages (from cohere) (4.13.0)\n",
      "Requirement already satisfied: anyio in c:\\users\\ryanz\\desktop\\universityprojects\\llm_prisoners_dillemma\\.venv\\lib\\site-packages (from httpx>=0.21.2->cohere) (4.9.0)\n",
      "Requirement already satisfied: certifi in c:\\users\\ryanz\\desktop\\universityprojects\\llm_prisoners_dillemma\\.venv\\lib\\site-packages (from httpx>=0.21.2->cohere) (2025.1.31)\n",
      "Requirement already satisfied: httpcore==1.* in c:\\users\\ryanz\\desktop\\universityprojects\\llm_prisoners_dillemma\\.venv\\lib\\site-packages (from httpx>=0.21.2->cohere) (1.0.7)\n",
      "Requirement already satisfied: idna in c:\\users\\ryanz\\desktop\\universityprojects\\llm_prisoners_dillemma\\.venv\\lib\\site-packages (from httpx>=0.21.2->cohere) (3.10)\n",
      "Requirement already satisfied: h11<0.15,>=0.13 in c:\\users\\ryanz\\desktop\\universityprojects\\llm_prisoners_dillemma\\.venv\\lib\\site-packages (from httpcore==1.*->httpx>=0.21.2->cohere) (0.14.0)\n",
      "Collecting aiohttp<4.0.0,>=3.8.3 (from langchain-community<0.4.0,>=0.3.0->langchain-cohere)\n",
      "  Downloading aiohttp-3.11.18-cp312-cp312-win_amd64.whl.metadata (8.0 kB)\n",
      "Requirement already satisfied: tenacity!=8.4.0,<10,>=8.1.0 in c:\\users\\ryanz\\desktop\\universityprojects\\llm_prisoners_dillemma\\.venv\\lib\\site-packages (from langchain-community<0.4.0,>=0.3.0->langchain-cohere) (9.1.2)\n",
      "Collecting dataclasses-json<0.7,>=0.5.7 (from langchain-community<0.4.0,>=0.3.0->langchain-cohere)\n",
      "  Downloading dataclasses_json-0.6.7-py3-none-any.whl.metadata (25 kB)\n",
      "Collecting pydantic-settings<3.0.0,>=2.4.0 (from langchain-community<0.4.0,>=0.3.0->langchain-cohere)\n",
      "  Downloading pydantic_settings-2.9.1-py3-none-any.whl.metadata (3.8 kB)\n",
      "Requirement already satisfied: numpy>=1.26.2 in c:\\users\\ryanz\\desktop\\universityprojects\\llm_prisoners_dillemma\\.venv\\lib\\site-packages (from langchain-community<0.4.0,>=0.3.0->langchain-cohere) (2.2.4)\n",
      "Requirement already satisfied: jsonpatch<2.0,>=1.33 in c:\\users\\ryanz\\desktop\\universityprojects\\llm_prisoners_dillemma\\.venv\\lib\\site-packages (from langchain-core<1.0.0,>=0.3.55->langchain) (1.33)\n",
      "Requirement already satisfied: packaging<25,>=23.2 in c:\\users\\ryanz\\desktop\\universityprojects\\llm_prisoners_dillemma\\.venv\\lib\\site-packages (from langchain-core<1.0.0,>=0.3.55->langchain) (24.2)\n",
      "Requirement already satisfied: ormsgpack<2.0.0,>=1.8.0 in c:\\users\\ryanz\\desktop\\universityprojects\\llm_prisoners_dillemma\\.venv\\lib\\site-packages (from langgraph-checkpoint<3.0.0,>=2.0.10->langgraph) (1.9.1)\n",
      "Requirement already satisfied: orjson>=3.10.1 in c:\\users\\ryanz\\desktop\\universityprojects\\llm_prisoners_dillemma\\.venv\\lib\\site-packages (from langgraph-sdk<0.2.0,>=0.1.42->langgraph) (3.10.16)\n",
      "Requirement already satisfied: requests-toolbelt<2.0.0,>=1.0.0 in c:\\users\\ryanz\\desktop\\universityprojects\\llm_prisoners_dillemma\\.venv\\lib\\site-packages (from langsmith<0.4,>=0.1.17->langchain) (1.0.0)\n",
      "Requirement already satisfied: zstandard<0.24.0,>=0.23.0 in c:\\users\\ryanz\\desktop\\universityprojects\\llm_prisoners_dillemma\\.venv\\lib\\site-packages (from langsmith<0.4,>=0.1.17->langchain) (0.23.0)\n",
      "Requirement already satisfied: annotated-types>=0.6.0 in c:\\users\\ryanz\\desktop\\universityprojects\\llm_prisoners_dillemma\\.venv\\lib\\site-packages (from pydantic<3.0.0,>=2.7.4->langchain) (0.7.0)\n",
      "Requirement already satisfied: typing-inspection>=0.4.0 in c:\\users\\ryanz\\desktop\\universityprojects\\llm_prisoners_dillemma\\.venv\\lib\\site-packages (from pydantic<3.0.0,>=2.7.4->langchain) (0.4.0)\n",
      "Requirement already satisfied: charset-normalizer<4,>=2 in c:\\users\\ryanz\\desktop\\universityprojects\\llm_prisoners_dillemma\\.venv\\lib\\site-packages (from requests<3,>=2->langchain) (3.4.1)\n",
      "Requirement already satisfied: urllib3<3,>=1.21.1 in c:\\users\\ryanz\\desktop\\universityprojects\\llm_prisoners_dillemma\\.venv\\lib\\site-packages (from requests<3,>=2->langchain) (2.3.0)\n",
      "Collecting greenlet>=1 (from SQLAlchemy<3,>=1.4->langchain)\n",
      "  Downloading greenlet-3.2.1-cp312-cp312-win_amd64.whl.metadata (4.2 kB)\n",
      "Collecting huggingface-hub<1.0,>=0.16.4 (from tokenizers<1,>=0.15->cohere)\n",
      "  Downloading huggingface_hub-0.30.2-py3-none-any.whl.metadata (13 kB)\n",
      "Collecting aiohappyeyeballs>=2.3.0 (from aiohttp<4.0.0,>=3.8.3->langchain-community<0.4.0,>=0.3.0->langchain-cohere)\n",
      "  Using cached aiohappyeyeballs-2.6.1-py3-none-any.whl.metadata (5.9 kB)\n",
      "Collecting aiosignal>=1.1.2 (from aiohttp<4.0.0,>=3.8.3->langchain-community<0.4.0,>=0.3.0->langchain-cohere)\n",
      "  Using cached aiosignal-1.3.2-py2.py3-none-any.whl.metadata (3.8 kB)\n",
      "Collecting attrs>=17.3.0 (from aiohttp<4.0.0,>=3.8.3->langchain-community<0.4.0,>=0.3.0->langchain-cohere)\n",
      "  Using cached attrs-25.3.0-py3-none-any.whl.metadata (10 kB)\n",
      "Collecting frozenlist>=1.1.1 (from aiohttp<4.0.0,>=3.8.3->langchain-community<0.4.0,>=0.3.0->langchain-cohere)\n",
      "  Downloading frozenlist-1.6.0-cp312-cp312-win_amd64.whl.metadata (16 kB)\n",
      "Collecting multidict<7.0,>=4.5 (from aiohttp<4.0.0,>=3.8.3->langchain-community<0.4.0,>=0.3.0->langchain-cohere)\n",
      "  Downloading multidict-6.4.3-cp312-cp312-win_amd64.whl.metadata (5.5 kB)\n",
      "Collecting propcache>=0.2.0 (from aiohttp<4.0.0,>=3.8.3->langchain-community<0.4.0,>=0.3.0->langchain-cohere)\n",
      "  Downloading propcache-0.3.1-cp312-cp312-win_amd64.whl.metadata (11 kB)\n",
      "Collecting yarl<2.0,>=1.17.0 (from aiohttp<4.0.0,>=3.8.3->langchain-community<0.4.0,>=0.3.0->langchain-cohere)\n",
      "  Downloading yarl-1.20.0-cp312-cp312-win_amd64.whl.metadata (74 kB)\n",
      "Collecting marshmallow<4.0.0,>=3.18.0 (from dataclasses-json<0.7,>=0.5.7->langchain-community<0.4.0,>=0.3.0->langchain-cohere)\n",
      "  Downloading marshmallow-3.26.1-py3-none-any.whl.metadata (7.3 kB)\n",
      "Collecting typing-inspect<1,>=0.4.0 (from dataclasses-json<0.7,>=0.5.7->langchain-community<0.4.0,>=0.3.0->langchain-cohere)\n",
      "  Downloading typing_inspect-0.9.0-py3-none-any.whl.metadata (1.5 kB)\n",
      "Collecting filelock (from huggingface-hub<1.0,>=0.16.4->tokenizers<1,>=0.15->cohere)\n",
      "  Downloading filelock-3.18.0-py3-none-any.whl.metadata (2.9 kB)\n",
      "Collecting fsspec>=2023.5.0 (from huggingface-hub<1.0,>=0.16.4->tokenizers<1,>=0.15->cohere)\n",
      "  Downloading fsspec-2025.3.2-py3-none-any.whl.metadata (11 kB)\n",
      "Collecting tqdm>=4.42.1 (from huggingface-hub<1.0,>=0.16.4->tokenizers<1,>=0.15->cohere)\n",
      "  Using cached tqdm-4.67.1-py3-none-any.whl.metadata (57 kB)\n",
      "Requirement already satisfied: jsonpointer>=1.9 in c:\\users\\ryanz\\desktop\\universityprojects\\llm_prisoners_dillemma\\.venv\\lib\\site-packages (from jsonpatch<2.0,>=1.33->langchain-core<1.0.0,>=0.3.55->langchain) (3.0.0)\n",
      "Collecting python-dotenv>=0.21.0 (from pydantic-settings<3.0.0,>=2.4.0->langchain-community<0.4.0,>=0.3.0->langchain-cohere)\n",
      "  Downloading python_dotenv-1.1.0-py3-none-any.whl.metadata (24 kB)\n",
      "Requirement already satisfied: sniffio>=1.1 in c:\\users\\ryanz\\desktop\\universityprojects\\llm_prisoners_dillemma\\.venv\\lib\\site-packages (from anyio->httpx>=0.21.2->cohere) (1.3.1)\n",
      "Requirement already satisfied: colorama in c:\\users\\ryanz\\desktop\\universityprojects\\llm_prisoners_dillemma\\.venv\\lib\\site-packages (from tqdm>=4.42.1->huggingface-hub<1.0,>=0.16.4->tokenizers<1,>=0.15->cohere) (0.4.6)\n",
      "Collecting mypy-extensions>=0.3.0 (from typing-inspect<1,>=0.4.0->dataclasses-json<0.7,>=0.5.7->langchain-community<0.4.0,>=0.3.0->langchain-cohere)\n",
      "  Downloading mypy_extensions-1.1.0-py3-none-any.whl.metadata (1.1 kB)\n",
      "Downloading langchain-0.3.24-py3-none-any.whl (1.0 MB)\n",
      "   ---------------------------------------- 0.0/1.0 MB ? eta -:--:--\n",
      "   ---------------------------------------- 1.0/1.0 MB 6.8 MB/s eta 0:00:00\n",
      "Downloading langchain_cohere-0.4.4-py3-none-any.whl (42 kB)\n",
      "Downloading cohere-5.15.0-py3-none-any.whl (259 kB)\n",
      "Downloading httpx_sse-0.4.0-py3-none-any.whl (7.8 kB)\n",
      "Downloading fastavro-1.10.0-cp312-cp312-win_amd64.whl (487 kB)\n",
      "Downloading langchain_community-0.3.23-py3-none-any.whl (2.5 MB)\n",
      "   ---------------------------------------- 0.0/2.5 MB ? eta -:--:--\n",
      "   -------------------- ------------------- 1.3/2.5 MB 6.7 MB/s eta 0:00:01\n",
      "   ---------------------------------------- 2.5/2.5 MB 6.6 MB/s eta 0:00:00\n",
      "Downloading langchain_core-0.3.56-py3-none-any.whl (437 kB)\n",
      "Downloading langchain_text_splitters-0.3.8-py3-none-any.whl (32 kB)\n",
      "Downloading sqlalchemy-2.0.40-cp312-cp312-win_amd64.whl (2.1 MB)\n",
      "   ---------------------------------------- 0.0/2.1 MB ? eta -:--:--\n",
      "   ------------------------ --------------- 1.3/2.1 MB 6.7 MB/s eta 0:00:01\n",
      "   ---------------------------------------- 2.1/2.1 MB 6.6 MB/s eta 0:00:00\n",
      "Downloading tokenizers-0.21.1-cp39-abi3-win_amd64.whl (2.4 MB)\n",
      "   ---------------------------------------- 0.0/2.4 MB ? eta -:--:--\n",
      "   --------------------- ------------------ 1.3/2.4 MB 6.1 MB/s eta 0:00:01\n",
      "   ---------------------------------------- 2.4/2.4 MB 6.6 MB/s eta 0:00:00\n",
      "Downloading types_pyyaml-6.0.12.20250402-py3-none-any.whl (20 kB)\n",
      "Downloading types_requests-2.32.0.20250328-py3-none-any.whl (20 kB)\n",
      "Downloading aiohttp-3.11.18-cp312-cp312-win_amd64.whl (439 kB)\n",
      "Downloading dataclasses_json-0.6.7-py3-none-any.whl (28 kB)\n",
      "Downloading greenlet-3.2.1-cp312-cp312-win_amd64.whl (296 kB)\n",
      "Downloading huggingface_hub-0.30.2-py3-none-any.whl (481 kB)\n",
      "Downloading pydantic_settings-2.9.1-py3-none-any.whl (44 kB)\n",
      "Using cached aiohappyeyeballs-2.6.1-py3-none-any.whl (15 kB)\n",
      "Using cached aiosignal-1.3.2-py2.py3-none-any.whl (7.6 kB)\n",
      "Using cached attrs-25.3.0-py3-none-any.whl (63 kB)\n",
      "Downloading frozenlist-1.6.0-cp312-cp312-win_amd64.whl (120 kB)\n",
      "Downloading fsspec-2025.3.2-py3-none-any.whl (194 kB)\n",
      "Downloading marshmallow-3.26.1-py3-none-any.whl (50 kB)\n",
      "Downloading multidict-6.4.3-cp312-cp312-win_amd64.whl (38 kB)\n",
      "Downloading propcache-0.3.1-cp312-cp312-win_amd64.whl (44 kB)\n",
      "Downloading python_dotenv-1.1.0-py3-none-any.whl (20 kB)\n",
      "Using cached tqdm-4.67.1-py3-none-any.whl (78 kB)\n",
      "Downloading typing_inspect-0.9.0-py3-none-any.whl (8.8 kB)\n",
      "Downloading yarl-1.20.0-cp312-cp312-win_amd64.whl (92 kB)\n",
      "Downloading filelock-3.18.0-py3-none-any.whl (16 kB)\n",
      "Downloading mypy_extensions-1.1.0-py3-none-any.whl (5.0 kB)\n",
      "Installing collected packages: types-requests, types-pyyaml, tqdm, python-dotenv, propcache, mypy-extensions, multidict, marshmallow, httpx-sse, greenlet, fsspec, frozenlist, filelock, fastavro, attrs, aiohappyeyeballs, yarl, typing-inspect, SQLAlchemy, huggingface-hub, aiosignal, tokenizers, pydantic-settings, dataclasses-json, aiohttp, langchain-core, cohere, langchain-text-splitters, langchain, langchain-community, langchain-cohere\n",
      "  Attempting uninstall: langchain-core\n",
      "    Found existing installation: langchain-core 0.3.49\n",
      "    Uninstalling langchain-core-0.3.49:\n",
      "      Successfully uninstalled langchain-core-0.3.49\n",
      "Successfully installed SQLAlchemy-2.0.40 aiohappyeyeballs-2.6.1 aiohttp-3.11.18 aiosignal-1.3.2 attrs-25.3.0 cohere-5.15.0 dataclasses-json-0.6.7 fastavro-1.10.0 filelock-3.18.0 frozenlist-1.6.0 fsspec-2025.3.2 greenlet-3.2.1 httpx-sse-0.4.0 huggingface-hub-0.30.2 langchain-0.3.24 langchain-cohere-0.4.4 langchain-community-0.3.23 langchain-core-0.3.56 langchain-text-splitters-0.3.8 marshmallow-3.26.1 multidict-6.4.3 mypy-extensions-1.1.0 propcache-0.3.1 pydantic-settings-2.9.1 python-dotenv-1.1.0 tokenizers-0.21.1 tqdm-4.67.1 types-pyyaml-6.0.12.20250402 types-requests-2.32.0.20250328 typing-inspect-0.9.0 yarl-1.20.0\n",
      "Note: you may need to restart the kernel to use updated packages.\n"
     ]
    },
    {
     "name": "stderr",
     "output_type": "stream",
     "text": [
      "\n",
      "[notice] A new release of pip is available: 25.0.1 -> 25.1\n",
      "[notice] To update, run: python.exe -m pip install --upgrade pip\n"
     ]
    }
   ],
   "source": [
    "pip install langchain langgraph langchain-cohere cohere "
   ]
  },
  {
   "cell_type": "code",
   "execution_count": 2,
   "metadata": {},
   "outputs": [
    {
     "name": "stdout",
     "output_type": "stream",
     "text": [
      "Collecting langchain-openai\n",
      "  Downloading langchain_openai-0.3.17-py3-none-any.whl.metadata (2.3 kB)\n",
      "Collecting langchain-core<1.0.0,>=0.3.59 (from langchain-openai)\n",
      "  Downloading langchain_core-0.3.60-py3-none-any.whl.metadata (5.8 kB)\n",
      "Collecting openai<2.0.0,>=1.68.2 (from langchain-openai)\n",
      "  Downloading openai-1.79.0-py3-none-any.whl.metadata (25 kB)\n",
      "Collecting tiktoken<1,>=0.7 (from langchain-openai)\n",
      "  Downloading tiktoken-0.9.0-cp312-cp312-win_amd64.whl.metadata (6.8 kB)\n",
      "Requirement already satisfied: langsmith<0.4,>=0.1.126 in c:\\users\\ryanz\\desktop\\universityprojects\\llm_prisoners_dillemma\\.venv\\lib\\site-packages (from langchain-core<1.0.0,>=0.3.59->langchain-openai) (0.3.22)\n",
      "Requirement already satisfied: tenacity!=8.4.0,<10.0.0,>=8.1.0 in c:\\users\\ryanz\\desktop\\universityprojects\\llm_prisoners_dillemma\\.venv\\lib\\site-packages (from langchain-core<1.0.0,>=0.3.59->langchain-openai) (9.1.2)\n",
      "Requirement already satisfied: jsonpatch<2.0,>=1.33 in c:\\users\\ryanz\\desktop\\universityprojects\\llm_prisoners_dillemma\\.venv\\lib\\site-packages (from langchain-core<1.0.0,>=0.3.59->langchain-openai) (1.33)\n",
      "Requirement already satisfied: PyYAML>=5.3 in c:\\users\\ryanz\\desktop\\universityprojects\\llm_prisoners_dillemma\\.venv\\lib\\site-packages (from langchain-core<1.0.0,>=0.3.59->langchain-openai) (6.0.2)\n",
      "Requirement already satisfied: packaging<25,>=23.2 in c:\\users\\ryanz\\desktop\\universityprojects\\llm_prisoners_dillemma\\.venv\\lib\\site-packages (from langchain-core<1.0.0,>=0.3.59->langchain-openai) (24.2)\n",
      "Requirement already satisfied: typing-extensions>=4.7 in c:\\users\\ryanz\\desktop\\universityprojects\\llm_prisoners_dillemma\\.venv\\lib\\site-packages (from langchain-core<1.0.0,>=0.3.59->langchain-openai) (4.13.0)\n",
      "Requirement already satisfied: pydantic>=2.7.4 in c:\\users\\ryanz\\desktop\\universityprojects\\llm_prisoners_dillemma\\.venv\\lib\\site-packages (from langchain-core<1.0.0,>=0.3.59->langchain-openai) (2.11.1)\n",
      "Requirement already satisfied: anyio<5,>=3.5.0 in c:\\users\\ryanz\\desktop\\universityprojects\\llm_prisoners_dillemma\\.venv\\lib\\site-packages (from openai<2.0.0,>=1.68.2->langchain-openai) (4.9.0)\n",
      "Collecting distro<2,>=1.7.0 (from openai<2.0.0,>=1.68.2->langchain-openai)\n",
      "  Using cached distro-1.9.0-py3-none-any.whl.metadata (6.8 kB)\n",
      "Requirement already satisfied: httpx<1,>=0.23.0 in c:\\users\\ryanz\\desktop\\universityprojects\\llm_prisoners_dillemma\\.venv\\lib\\site-packages (from openai<2.0.0,>=1.68.2->langchain-openai) (0.28.1)\n",
      "Collecting jiter<1,>=0.4.0 (from openai<2.0.0,>=1.68.2->langchain-openai)\n",
      "  Downloading jiter-0.9.0-cp312-cp312-win_amd64.whl.metadata (5.3 kB)\n",
      "Requirement already satisfied: sniffio in c:\\users\\ryanz\\desktop\\universityprojects\\llm_prisoners_dillemma\\.venv\\lib\\site-packages (from openai<2.0.0,>=1.68.2->langchain-openai) (1.3.1)\n",
      "Requirement already satisfied: tqdm>4 in c:\\users\\ryanz\\desktop\\universityprojects\\llm_prisoners_dillemma\\.venv\\lib\\site-packages (from openai<2.0.0,>=1.68.2->langchain-openai) (4.67.1)\n",
      "Collecting regex>=2022.1.18 (from tiktoken<1,>=0.7->langchain-openai)\n",
      "  Downloading regex-2024.11.6-cp312-cp312-win_amd64.whl.metadata (41 kB)\n",
      "Requirement already satisfied: requests>=2.26.0 in c:\\users\\ryanz\\desktop\\universityprojects\\llm_prisoners_dillemma\\.venv\\lib\\site-packages (from tiktoken<1,>=0.7->langchain-openai) (2.32.3)\n",
      "Requirement already satisfied: idna>=2.8 in c:\\users\\ryanz\\desktop\\universityprojects\\llm_prisoners_dillemma\\.venv\\lib\\site-packages (from anyio<5,>=3.5.0->openai<2.0.0,>=1.68.2->langchain-openai) (3.10)\n",
      "Requirement already satisfied: certifi in c:\\users\\ryanz\\desktop\\universityprojects\\llm_prisoners_dillemma\\.venv\\lib\\site-packages (from httpx<1,>=0.23.0->openai<2.0.0,>=1.68.2->langchain-openai) (2025.1.31)\n",
      "Requirement already satisfied: httpcore==1.* in c:\\users\\ryanz\\desktop\\universityprojects\\llm_prisoners_dillemma\\.venv\\lib\\site-packages (from httpx<1,>=0.23.0->openai<2.0.0,>=1.68.2->langchain-openai) (1.0.7)\n",
      "Requirement already satisfied: h11<0.15,>=0.13 in c:\\users\\ryanz\\desktop\\universityprojects\\llm_prisoners_dillemma\\.venv\\lib\\site-packages (from httpcore==1.*->httpx<1,>=0.23.0->openai<2.0.0,>=1.68.2->langchain-openai) (0.14.0)\n",
      "Requirement already satisfied: jsonpointer>=1.9 in c:\\users\\ryanz\\desktop\\universityprojects\\llm_prisoners_dillemma\\.venv\\lib\\site-packages (from jsonpatch<2.0,>=1.33->langchain-core<1.0.0,>=0.3.59->langchain-openai) (3.0.0)\n",
      "Requirement already satisfied: orjson<4.0.0,>=3.9.14 in c:\\users\\ryanz\\desktop\\universityprojects\\llm_prisoners_dillemma\\.venv\\lib\\site-packages (from langsmith<0.4,>=0.1.126->langchain-core<1.0.0,>=0.3.59->langchain-openai) (3.10.16)\n",
      "Requirement already satisfied: requests-toolbelt<2.0.0,>=1.0.0 in c:\\users\\ryanz\\desktop\\universityprojects\\llm_prisoners_dillemma\\.venv\\lib\\site-packages (from langsmith<0.4,>=0.1.126->langchain-core<1.0.0,>=0.3.59->langchain-openai) (1.0.0)\n",
      "Requirement already satisfied: zstandard<0.24.0,>=0.23.0 in c:\\users\\ryanz\\desktop\\universityprojects\\llm_prisoners_dillemma\\.venv\\lib\\site-packages (from langsmith<0.4,>=0.1.126->langchain-core<1.0.0,>=0.3.59->langchain-openai) (0.23.0)\n",
      "Requirement already satisfied: annotated-types>=0.6.0 in c:\\users\\ryanz\\desktop\\universityprojects\\llm_prisoners_dillemma\\.venv\\lib\\site-packages (from pydantic>=2.7.4->langchain-core<1.0.0,>=0.3.59->langchain-openai) (0.7.0)\n",
      "Requirement already satisfied: pydantic-core==2.33.0 in c:\\users\\ryanz\\desktop\\universityprojects\\llm_prisoners_dillemma\\.venv\\lib\\site-packages (from pydantic>=2.7.4->langchain-core<1.0.0,>=0.3.59->langchain-openai) (2.33.0)\n",
      "Requirement already satisfied: typing-inspection>=0.4.0 in c:\\users\\ryanz\\desktop\\universityprojects\\llm_prisoners_dillemma\\.venv\\lib\\site-packages (from pydantic>=2.7.4->langchain-core<1.0.0,>=0.3.59->langchain-openai) (0.4.0)\n",
      "Requirement already satisfied: charset-normalizer<4,>=2 in c:\\users\\ryanz\\desktop\\universityprojects\\llm_prisoners_dillemma\\.venv\\lib\\site-packages (from requests>=2.26.0->tiktoken<1,>=0.7->langchain-openai) (3.4.1)\n",
      "Requirement already satisfied: urllib3<3,>=1.21.1 in c:\\users\\ryanz\\desktop\\universityprojects\\llm_prisoners_dillemma\\.venv\\lib\\site-packages (from requests>=2.26.0->tiktoken<1,>=0.7->langchain-openai) (2.3.0)\n",
      "Requirement already satisfied: colorama in c:\\users\\ryanz\\desktop\\universityprojects\\llm_prisoners_dillemma\\.venv\\lib\\site-packages (from tqdm>4->openai<2.0.0,>=1.68.2->langchain-openai) (0.4.6)\n",
      "Downloading langchain_openai-0.3.17-py3-none-any.whl (62 kB)\n",
      "Downloading langchain_core-0.3.60-py3-none-any.whl (437 kB)\n",
      "Downloading openai-1.79.0-py3-none-any.whl (683 kB)\n",
      "   ---------------------------------------- 0.0/683.3 kB ? eta -:--:--\n",
      "   ---------------------------------------- 683.3/683.3 kB 6.8 MB/s eta 0:00:00\n",
      "Downloading tiktoken-0.9.0-cp312-cp312-win_amd64.whl (894 kB)\n",
      "   ---------------------------------------- 0.0/894.9 kB ? eta -:--:--\n",
      "   ---------------------------------------- 894.9/894.9 kB 5.8 MB/s eta 0:00:00\n",
      "Using cached distro-1.9.0-py3-none-any.whl (20 kB)\n",
      "Downloading jiter-0.9.0-cp312-cp312-win_amd64.whl (207 kB)\n",
      "Downloading regex-2024.11.6-cp312-cp312-win_amd64.whl (273 kB)\n",
      "Installing collected packages: regex, jiter, distro, tiktoken, openai, langchain-core, langchain-openai\n",
      "  Attempting uninstall: langchain-core\n",
      "    Found existing installation: langchain-core 0.3.56\n",
      "    Uninstalling langchain-core-0.3.56:\n",
      "      Successfully uninstalled langchain-core-0.3.56\n",
      "Successfully installed distro-1.9.0 jiter-0.9.0 langchain-core-0.3.60 langchain-openai-0.3.17 openai-1.79.0 regex-2024.11.6 tiktoken-0.9.0\n",
      "Note: you may need to restart the kernel to use updated packages.\n"
     ]
    },
    {
     "name": "stderr",
     "output_type": "stream",
     "text": [
      "\n",
      "[notice] A new release of pip is available: 25.0.1 -> 25.1.1\n",
      "[notice] To update, run: python.exe -m pip install --upgrade pip\n"
     ]
    }
   ],
   "source": [
    "pip install langchain-openai"
   ]
  },
  {
   "cell_type": "code",
   "execution_count": 1,
   "metadata": {},
   "outputs": [
    {
     "name": "stdout",
     "output_type": "stream",
     "text": [
      "Requirement already satisfied: matplotlib in c:\\users\\ryanz\\desktop\\universityprojects\\llm_prisoners_dillemma\\.venv\\lib\\site-packages (3.10.1)\n",
      "Requirement already satisfied: pandas in c:\\users\\ryanz\\desktop\\universityprojects\\llm_prisoners_dillemma\\.venv\\lib\\site-packages (2.2.3)\n",
      "Collecting seaborn\n",
      "  Downloading seaborn-0.13.2-py3-none-any.whl.metadata (5.4 kB)\n",
      "Requirement already satisfied: contourpy>=1.0.1 in c:\\users\\ryanz\\desktop\\universityprojects\\llm_prisoners_dillemma\\.venv\\lib\\site-packages (from matplotlib) (1.3.1)\n",
      "Requirement already satisfied: cycler>=0.10 in c:\\users\\ryanz\\desktop\\universityprojects\\llm_prisoners_dillemma\\.venv\\lib\\site-packages (from matplotlib) (0.12.1)\n",
      "Requirement already satisfied: fonttools>=4.22.0 in c:\\users\\ryanz\\desktop\\universityprojects\\llm_prisoners_dillemma\\.venv\\lib\\site-packages (from matplotlib) (4.56.0)\n",
      "Requirement already satisfied: kiwisolver>=1.3.1 in c:\\users\\ryanz\\desktop\\universityprojects\\llm_prisoners_dillemma\\.venv\\lib\\site-packages (from matplotlib) (1.4.8)\n",
      "Requirement already satisfied: numpy>=1.23 in c:\\users\\ryanz\\desktop\\universityprojects\\llm_prisoners_dillemma\\.venv\\lib\\site-packages (from matplotlib) (2.2.4)\n",
      "Requirement already satisfied: packaging>=20.0 in c:\\users\\ryanz\\desktop\\universityprojects\\llm_prisoners_dillemma\\.venv\\lib\\site-packages (from matplotlib) (24.2)\n",
      "Requirement already satisfied: pillow>=8 in c:\\users\\ryanz\\desktop\\universityprojects\\llm_prisoners_dillemma\\.venv\\lib\\site-packages (from matplotlib) (11.1.0)\n",
      "Requirement already satisfied: pyparsing>=2.3.1 in c:\\users\\ryanz\\desktop\\universityprojects\\llm_prisoners_dillemma\\.venv\\lib\\site-packages (from matplotlib) (3.2.3)\n",
      "Requirement already satisfied: python-dateutil>=2.7 in c:\\users\\ryanz\\desktop\\universityprojects\\llm_prisoners_dillemma\\.venv\\lib\\site-packages (from matplotlib) (2.9.0.post0)\n",
      "Requirement already satisfied: pytz>=2020.1 in c:\\users\\ryanz\\desktop\\universityprojects\\llm_prisoners_dillemma\\.venv\\lib\\site-packages (from pandas) (2025.2)\n",
      "Requirement already satisfied: tzdata>=2022.7 in c:\\users\\ryanz\\desktop\\universityprojects\\llm_prisoners_dillemma\\.venv\\lib\\site-packages (from pandas) (2025.2)\n",
      "Requirement already satisfied: six>=1.5 in c:\\users\\ryanz\\desktop\\universityprojects\\llm_prisoners_dillemma\\.venv\\lib\\site-packages (from python-dateutil>=2.7->matplotlib) (1.17.0)\n",
      "Downloading seaborn-0.13.2-py3-none-any.whl (294 kB)\n",
      "Installing collected packages: seaborn\n",
      "Successfully installed seaborn-0.13.2\n",
      "Note: you may need to restart the kernel to use updated packages.\n"
     ]
    },
    {
     "name": "stderr",
     "output_type": "stream",
     "text": [
      "\n",
      "[notice] A new release of pip is available: 25.0.1 -> 25.1.1\n",
      "[notice] To update, run: python.exe -m pip install --upgrade pip\n"
     ]
    }
   ],
   "source": [
    "pip install matplotlib pandas seaborn"
   ]
  },
  {
   "cell_type": "code",
   "execution_count": 1,
   "metadata": {},
   "outputs": [
    {
     "name": "stdout",
     "output_type": "stream",
     "text": [
      "Requirement already satisfied: python-dotenv in c:\\users\\ryanz\\desktop\\universityprojects\\llm_prisoners_dillemma\\.venv\\lib\\site-packages (1.1.0)\n",
      "Note: you may need to restart the kernel to use updated packages.\n"
     ]
    },
    {
     "name": "stderr",
     "output_type": "stream",
     "text": [
      "\n",
      "[notice] A new release of pip is available: 25.0.1 -> 25.1.1\n",
      "[notice] To update, run: python.exe -m pip install --upgrade pip\n"
     ]
    }
   ],
   "source": [
    "pip install python-dotenv"
   ]
  },
  {
   "cell_type": "code",
   "execution_count": 3,
   "metadata": {},
   "outputs": [
    {
     "name": "stdout",
     "output_type": "stream",
     "text": [
      "Collecting textblob\n",
      "  Downloading textblob-0.19.0-py3-none-any.whl.metadata (4.4 kB)\n",
      "Collecting nltk>=3.9 (from textblob)\n",
      "  Using cached nltk-3.9.1-py3-none-any.whl.metadata (2.9 kB)\n",
      "Collecting click (from nltk>=3.9->textblob)\n",
      "  Downloading click-8.2.1-py3-none-any.whl.metadata (2.5 kB)\n",
      "Collecting joblib (from nltk>=3.9->textblob)\n",
      "  Downloading joblib-1.5.0-py3-none-any.whl.metadata (5.6 kB)\n",
      "Requirement already satisfied: regex>=2021.8.3 in c:\\users\\ryanz\\desktop\\universityprojects\\llm_prisoners_dillemma\\.venv\\lib\\site-packages (from nltk>=3.9->textblob) (2024.11.6)\n",
      "Requirement already satisfied: tqdm in c:\\users\\ryanz\\desktop\\universityprojects\\llm_prisoners_dillemma\\.venv\\lib\\site-packages (from nltk>=3.9->textblob) (4.67.1)\n",
      "Requirement already satisfied: colorama in c:\\users\\ryanz\\desktop\\universityprojects\\llm_prisoners_dillemma\\.venv\\lib\\site-packages (from click->nltk>=3.9->textblob) (0.4.6)\n",
      "Downloading textblob-0.19.0-py3-none-any.whl (624 kB)\n",
      "   ---------------------------------------- 0.0/624.3 kB ? eta -:--:--\n",
      "   ---------------------------------------- 624.3/624.3 kB 7.7 MB/s eta 0:00:00\n",
      "Using cached nltk-3.9.1-py3-none-any.whl (1.5 MB)\n",
      "Downloading click-8.2.1-py3-none-any.whl (102 kB)\n",
      "Downloading joblib-1.5.0-py3-none-any.whl (307 kB)\n",
      "Installing collected packages: joblib, click, nltk, textblob\n",
      "Successfully installed click-8.2.1 joblib-1.5.0 nltk-3.9.1 textblob-0.19.0\n",
      "Note: you may need to restart the kernel to use updated packages.\n"
     ]
    },
    {
     "name": "stderr",
     "output_type": "stream",
     "text": [
      "\n",
      "[notice] A new release of pip is available: 25.0.1 -> 25.1.1\n",
      "[notice] To update, run: python.exe -m pip install --upgrade pip\n"
     ]
    }
   ],
   "source": [
    "pip install -U textblob"
   ]
  },
  {
   "cell_type": "code",
   "execution_count": 7,
   "metadata": {},
   "outputs": [
    {
     "name": "stdout",
     "output_type": "stream",
     "text": [
      "Finished.\n"
     ]
    },
    {
     "name": "stderr",
     "output_type": "stream",
     "text": [
      "[nltk_data] Downloading package brown to\n",
      "[nltk_data]     C:\\Users\\ryanz\\AppData\\Roaming\\nltk_data...\n",
      "[nltk_data]   Unzipping corpora\\brown.zip.\n",
      "[nltk_data] Downloading package punkt_tab to\n",
      "[nltk_data]     C:\\Users\\ryanz\\AppData\\Roaming\\nltk_data...\n",
      "[nltk_data]   Unzipping tokenizers\\punkt_tab.zip.\n",
      "[nltk_data] Downloading package wordnet to\n",
      "[nltk_data]     C:\\Users\\ryanz\\AppData\\Roaming\\nltk_data...\n",
      "[nltk_data] Downloading package averaged_perceptron_tagger_eng to\n",
      "[nltk_data]     C:\\Users\\ryanz\\AppData\\Roaming\\nltk_data...\n",
      "[nltk_data]   Unzipping taggers\\averaged_perceptron_tagger_eng.zip.\n",
      "[nltk_data] Downloading package conll2000 to\n",
      "[nltk_data]     C:\\Users\\ryanz\\AppData\\Roaming\\nltk_data...\n",
      "[nltk_data]   Unzipping corpora\\conll2000.zip.\n",
      "[nltk_data] Downloading package movie_reviews to\n",
      "[nltk_data]     C:\\Users\\ryanz\\AppData\\Roaming\\nltk_data...\n",
      "[nltk_data]   Unzipping corpora\\movie_reviews.zip.\n"
     ]
    }
   ],
   "source": [
    "!python -m textblob.download_corpora"
   ]
  },
  {
   "cell_type": "code",
   "execution_count": 1,
   "metadata": {},
   "outputs": [
    {
     "name": "stdout",
     "output_type": "stream",
     "text": [
      "Collecting scipy\n",
      "  Downloading scipy-1.15.3-cp312-cp312-win_amd64.whl.metadata (60 kB)\n",
      "Requirement already satisfied: numpy<2.5,>=1.23.5 in c:\\users\\ryanz\\desktop\\universityprojects\\llm_prisoners_dillemma\\.venv\\lib\\site-packages (from scipy) (2.2.4)\n",
      "Downloading scipy-1.15.3-cp312-cp312-win_amd64.whl (41.0 MB)\n",
      "   ---------------------------------------- 0.0/41.0 MB ? eta -:--:--\n",
      "   - -------------------------------------- 1.0/41.0 MB 6.3 MB/s eta 0:00:07\n",
      "   -- ------------------------------------- 2.6/41.0 MB 6.6 MB/s eta 0:00:06\n",
      "   --- ------------------------------------ 3.9/41.0 MB 6.7 MB/s eta 0:00:06\n",
      "   ----- ---------------------------------- 5.2/41.0 MB 6.6 MB/s eta 0:00:06\n",
      "   ------ --------------------------------- 6.6/41.0 MB 6.7 MB/s eta 0:00:06\n",
      "   ------- -------------------------------- 7.9/41.0 MB 6.7 MB/s eta 0:00:05\n",
      "   --------- ------------------------------ 9.4/41.0 MB 6.7 MB/s eta 0:00:05\n",
      "   ---------- ----------------------------- 10.7/41.0 MB 6.7 MB/s eta 0:00:05\n",
      "   ----------- ---------------------------- 12.1/41.0 MB 6.7 MB/s eta 0:00:05\n",
      "   ------------- -------------------------- 13.4/41.0 MB 6.7 MB/s eta 0:00:05\n",
      "   -------------- ------------------------- 14.7/41.0 MB 6.7 MB/s eta 0:00:04\n",
      "   --------------- ------------------------ 16.3/41.0 MB 6.7 MB/s eta 0:00:04\n",
      "   ----------------- ---------------------- 17.6/41.0 MB 6.7 MB/s eta 0:00:04\n",
      "   ------------------ --------------------- 18.9/41.0 MB 6.7 MB/s eta 0:00:04\n",
      "   ------------------- -------------------- 20.4/41.0 MB 6.7 MB/s eta 0:00:04\n",
      "   --------------------- ------------------ 21.8/41.0 MB 6.7 MB/s eta 0:00:03\n",
      "   ---------------------- ----------------- 23.1/41.0 MB 6.7 MB/s eta 0:00:03\n",
      "   ----------------------- ---------------- 24.4/41.0 MB 6.7 MB/s eta 0:00:03\n",
      "   ------------------------- -------------- 25.7/41.0 MB 6.7 MB/s eta 0:00:03\n",
      "   -------------------------- ------------- 27.3/41.0 MB 6.7 MB/s eta 0:00:03\n",
      "   --------------------------- ------------ 28.6/41.0 MB 6.7 MB/s eta 0:00:02\n",
      "   ----------------------------- ---------- 29.9/41.0 MB 6.7 MB/s eta 0:00:02\n",
      "   ------------------------------ --------- 31.2/41.0 MB 6.7 MB/s eta 0:00:02\n",
      "   ------------------------------- -------- 32.5/41.0 MB 6.7 MB/s eta 0:00:02\n",
      "   --------------------------------- ------ 34.1/41.0 MB 6.7 MB/s eta 0:00:02\n",
      "   ---------------------------------- ----- 35.4/41.0 MB 6.7 MB/s eta 0:00:01\n",
      "   ----------------------------------- ---- 36.7/41.0 MB 6.7 MB/s eta 0:00:01\n",
      "   ------------------------------------- -- 38.0/41.0 MB 6.7 MB/s eta 0:00:01\n",
      "   -------------------------------------- - 39.6/41.0 MB 6.7 MB/s eta 0:00:01\n",
      "   ---------------------------------------  40.9/41.0 MB 6.7 MB/s eta 0:00:01\n",
      "   ---------------------------------------- 41.0/41.0 MB 6.7 MB/s eta 0:00:00\n",
      "Installing collected packages: scipy\n",
      "Successfully installed scipy-1.15.3\n",
      "Note: you may need to restart the kernel to use updated packages.\n"
     ]
    },
    {
     "name": "stderr",
     "output_type": "stream",
     "text": [
      "\n",
      "[notice] A new release of pip is available: 25.0.1 -> 25.1.1\n",
      "[notice] To update, run: python.exe -m pip install --upgrade pip\n"
     ]
    }
   ],
   "source": [
    "pip install scipy"
   ]
  }
 ],
 "metadata": {
  "kernelspec": {
   "display_name": ".venv",
   "language": "python",
   "name": "python3"
  },
  "language_info": {
   "codemirror_mode": {
    "name": "ipython",
    "version": 3
   },
   "file_extension": ".py",
   "mimetype": "text/x-python",
   "name": "python",
   "nbconvert_exporter": "python",
   "pygments_lexer": "ipython3",
   "version": "3.12.2"
  }
 },
 "nbformat": 4,
 "nbformat_minor": 2
}
